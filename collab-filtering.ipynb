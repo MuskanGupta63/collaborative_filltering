{
 "cells": [
  {
   "cell_type": "code",
   "execution_count": null,
   "id": "8428400a",
   "metadata": {},
   "outputs": [],
   "source": [
    "%pip install pandas"
   ]
  },
  {
   "cell_type": "code",
   "execution_count": null,
   "id": "43066e55",
   "metadata": {},
   "outputs": [],
   "source": [
    "import pandas as pd"
   ]
  },
  {
   "cell_type": "code",
   "execution_count": null,
   "id": "3a42d290",
   "metadata": {},
   "outputs": [],
   "source": [
    "ratings = pd.read_csv('rating.csv.csv')\n",
    "movies = pd.read_csv('movie.csv')\n"
   ]
  },
  {
   "cell_type": "code",
   "execution_count": 1,
   "id": "9550e002",
   "metadata": {},
   "outputs": [
    {
     "ename": "NameError",
     "evalue": "name 'ratings' is not defined",
     "output_type": "error",
     "traceback": [
      "\u001b[1;31m---------------------------------------------------------------------------\u001b[0m",
      "\u001b[1;31mNameError\u001b[0m                                 Traceback (most recent call last)",
      "\u001b[1;32m~\\AppData\\Local\\Temp/ipykernel_10216/504455375.py\u001b[0m in \u001b[0;36m<module>\u001b[1;34m\u001b[0m\n\u001b[1;32m----> 1\u001b[1;33m \u001b[0mratings\u001b[0m\u001b[1;33m.\u001b[0m\u001b[0mhead\u001b[0m\u001b[1;33m(\u001b[0m\u001b[1;33m)\u001b[0m\u001b[1;33m\u001b[0m\u001b[1;33m\u001b[0m\u001b[0m\n\u001b[0m",
      "\u001b[1;31mNameError\u001b[0m: name 'ratings' is not defined"
     ]
    }
   ],
   "source": [
    "ratings.head()"
   ]
  },
  {
   "cell_type": "code",
   "execution_count": null,
   "id": "ba24b953",
   "metadata": {},
   "outputs": [],
   "source": [
    "movies.head()"
   ]
  },
  {
   "cell_type": "code",
   "execution_count": null,
   "id": "8f9635dc",
   "metadata": {},
   "outputs": [],
   "source": [
    "ratings = pd.merge(ratings,movies).drop(['genres','timestamp'],axis=1)\n",
    "ratings.head()"
   ]
  },
  {
   "cell_type": "code",
   "execution_count": null,
   "id": "3db3f30e",
   "metadata": {},
   "outputs": [],
   "source": [
    "user_ratings = ratings.pivot_table(index=['userid'],columns=['title'],value='rating')\n",
    "user_ratings.head()"
   ]
  },
  {
   "cell_type": "code",
   "execution_count": null,
   "id": "7f5dba84",
   "metadata": {},
   "outputs": [],
   "source": [
    "## lets remove movies which have less than 10 users who rated it and filled remaining NaN with 0\n",
    "user_ratings = user_ratings.dropna(thresh=10,axis=1).fillna(0)"
   ]
  },
  {
   "cell_type": "code",
   "execution_count": null,
   "id": "f70b3839",
   "metadata": {},
   "outputs": [],
   "source": [
    "#let build our similarity matrix\n",
    "item_similarity_df = user_ratings.corr(method='pearson')\n",
    "item_similarity_df.head(50)"
   ]
  },
  {
   "cell_type": "code",
   "execution_count": null,
   "id": "8336b72d",
   "metadata": {},
   "outputs": [],
   "source": [
    "def get_similar_movies(movie_name,user_rating):\n",
    "    similar_score = item_similarity_df[movie_name]*(user_rating - 2.5)\n",
    "    similar_score = similar_score.sort_values(ascending=False)\n",
    "    return similar_score"
   ]
  },
  {
   "cell_type": "code",
   "execution_count": null,
   "id": "3204a28a",
   "metadata": {},
   "outputs": [],
   "source": [
    "action_lover = [(\"2 Fast 2 Furious (Fast and the Furious 2, The) (2003)\",5),(\"12 Years a Slave (2013)\",4),(\"500) Days of Summer (2009)\",2)]\n",
    "\n",
    "similar_movies = pd.DataFrame()\n",
    "\n",
    "for movie,rating in action_lover:\n",
    "    similar_movies = similar_movies.append(get_similar_movies(movie,rating),ignore_index=True)\n",
    "    \n",
    "similar_movies.head()\n",
    "similar_movies.sum().sort_values(ascending=False)"
   ]
  }
 ],
 "metadata": {
  "kernelspec": {
   "display_name": "Python 3 (ipykernel)",
   "language": "python",
   "name": "python3"
  },
  "language_info": {
   "codemirror_mode": {
    "name": "ipython",
    "version": 3
   },
   "file_extension": ".py",
   "mimetype": "text/x-python",
   "name": "python",
   "nbconvert_exporter": "python",
   "pygments_lexer": "ipython3",
   "version": "3.9.7"
  }
 },
 "nbformat": 4,
 "nbformat_minor": 5
}
